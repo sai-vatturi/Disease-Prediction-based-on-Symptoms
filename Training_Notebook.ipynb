{
  "cells": [
    {
      "cell_type": "markdown",
      "metadata": {
        "id": "TB6xL2z6TWZT"
      },
      "source": [
        "#Predict on Symptoms Passed"
      ]
    },
    {
      "cell_type": "code",
      "execution_count": 2,
      "metadata": {
        "colab": {
          "base_uri": "https://localhost:8080/"
        },
        "id": "YzvkRi83TcNC",
        "outputId": "e4e5a0f5-d50b-42c5-a14a-9e343bd9265e"
      },
      "outputs": [
        {
          "name": "stdout",
          "output_type": "stream",
          "text": [
            "DecisionTree\n",
            "['Drug Reaction']\n"
          ]
        }
      ],
      "source": [
        "from sklearn.tree import DecisionTreeClassifier\n",
        "from sklearn.model_selection import train_test_split\n",
        "import csv, numpy as np, pandas as pd\n",
        "import os\n",
        "\n",
        "data = pd.read_csv(\"./Training.csv\")\n",
        "df = pd.DataFrame(data)\n",
        "cols = df.columns\n",
        "cols = cols[:-1]\n",
        "x = df[cols]\n",
        "y = df['prognosis']\n",
        "x_train, x_test, y_train, y_test = train_test_split(x, y, test_size=0.33, random_state=42)\n",
        "\n",
        "print(\"DecisionTree\")\n",
        "dt = DecisionTreeClassifier()\n",
        "clf_dt = dt.fit(x_train, y_train)\n",
        "\n",
        "indices = [i for i in range(132)]\n",
        "symptoms = df.columns.values[:-1]\n",
        "\n",
        "dictionary = dict(zip(symptoms, indices))\n",
        "def dosomething(symptoms):\n",
        "    user_input_label = [0 for _ in range(132)]\n",
        "    for symptom in symptoms:\n",
        "        idx = dictionary.get(symptom, -1)\n",
        "        if idx != -1:\n",
        "            user_input_label[idx] = 1\n",
        "\n",
        "    user_input_label = np.array(user_input_label).reshape(1, -1)\n",
        "\n",
        "    # Create a DataFrame with the same columns as the training data\n",
        "    user_input_df = pd.DataFrame(user_input_label, columns=cols)\n",
        "\n",
        "    # Make predictions using the trained DecisionTreeClassifier\n",
        "    return dt.predict(user_input_df)\n",
        "\n",
        "predicted_disease = dosomething(['itching', 'anxiety'])\n",
        "print(predicted_disease)\n"
      ]
    },
    {
      "cell_type": "markdown",
      "metadata": {
        "id": "JbrRAQd2Tw74"
      },
      "source": [
        "# Print Test Accuracy"
      ]
    },
    {
      "cell_type": "code",
      "execution_count": 3,
      "metadata": {
        "colab": {
          "base_uri": "https://localhost:8080/"
        },
        "id": "UwwYIf3TT3MP",
        "outputId": "9801cb99-fd95-43d0-c1f4-6a10847995f4"
      },
      "outputs": [
        {
          "name": "stdout",
          "output_type": "stream",
          "text": [
            "Training Decision Tree\n",
            "Accuracy on test data: 1.0\n"
          ]
        }
      ],
      "source": [
        "from sklearn.tree import DecisionTreeClassifier\n",
        "from sklearn.model_selection import train_test_split\n",
        "import pandas as pd\n",
        "\n",
        "# Load the data\n",
        "data = pd.read_csv(\"./Training.csv\")\n",
        "features = data.drop(columns=['prognosis'])\n",
        "labels = data['prognosis']\n",
        "\n",
        "# Split the data into training and test sets\n",
        "x_train, x_test, y_train, y_test = train_test_split(features, labels, test_size=0.33, random_state=42)\n",
        "\n",
        "# Train the decision tree classifier\n",
        "print(\"Training Decision Tree\")\n",
        "clf = DecisionTreeClassifier()\n",
        "clf.fit(x_train, y_train)\n",
        "\n",
        "# Evaluate the accuracy on the test data\n",
        "accuracy = clf.score(x_test, y_test)\n",
        "print(f\"Accuracy on test data: {accuracy}\")\n"
      ]
    },
    {
      "cell_type": "markdown",
      "metadata": {},
      "source": [
        "# Export to Pickle Model"
      ]
    },
    {
      "cell_type": "code",
      "execution_count": 6,
      "metadata": {},
      "outputs": [
        {
          "data": {
            "text/plain": [
              "['decision_tree_model.pkl']"
            ]
          },
          "execution_count": 6,
          "metadata": {},
          "output_type": "execute_result"
        }
      ],
      "source": [
        "import joblib\n",
        "\n",
        "joblib.dump(clf_dt, 'decision_tree_model.pkl')"
      ]
    },
    {
      "cell_type": "code",
      "execution_count": 8,
      "metadata": {},
      "outputs": [
        {
          "name": "stdout",
          "output_type": "stream",
          "text": [
            "['Cervical spondylosis']\n"
          ]
        }
      ],
      "source": [
        "import joblib\n",
        "\n",
        "# Load the trained mo\n",
        "loaded_model = joblib.load('decision_tree_model.pkl')\n",
        "\n",
        "predicted_disease = dosomething(['anxiety'])\n",
        "\n",
        "print(predicted_disease)\n"
      ]
    }
  ],
  "metadata": {
    "colab": {
      "provenance": []
    },
    "kernelspec": {
      "display_name": "Python 3",
      "name": "python3"
    },
    "language_info": {
      "codemirror_mode": {
        "name": "ipython",
        "version": 3
      },
      "file_extension": ".py",
      "mimetype": "text/x-python",
      "name": "python",
      "nbconvert_exporter": "python",
      "pygments_lexer": "ipython3",
      "version": "3.9.16"
    }
  },
  "nbformat": 4,
  "nbformat_minor": 0
}
