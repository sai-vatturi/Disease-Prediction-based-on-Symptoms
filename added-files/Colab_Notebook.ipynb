{
  "nbformat": 4,
  "nbformat_minor": 0,
  "metadata": {
    "colab": {
      "provenance": []
    },
    "kernelspec": {
      "name": "python3",
      "display_name": "Python 3"
    },
    "language_info": {
      "name": "python"
    }
  },
  "cells": [
    {
      "cell_type": "code",
      "execution_count": 1,
      "metadata": {
        "colab": {
          "base_uri": "https://localhost:8080/"
        },
        "id": "LXBtAhcSTDJt",
        "outputId": "bfa1bc9c-25ac-4ec1-dcff-0707e753ac59"
      },
      "outputs": [
        {
          "output_type": "stream",
          "name": "stdout",
          "text": [
            "Archive:  DiseaseDetection.zip\n",
            "   creating: DiseaseDetection/\n",
            "   creating: DiseaseDetection/DiseaseDetection/\n",
            "  inflating: DiseaseDetection/DiseaseDetection/app.py  \n",
            "  inflating: DiseaseDetection/DiseaseDetection/disease.py  \n",
            "  inflating: DiseaseDetection/DiseaseDetection/diseaseaccuracy.py  \n",
            "  inflating: DiseaseDetection/DiseaseDetection/diseasematrix.py  \n",
            "   creating: DiseaseDetection/DiseaseDetection/templates/\n",
            "  inflating: DiseaseDetection/DiseaseDetection/templates/diseaseprediction.py  \n",
            "  inflating: DiseaseDetection/DiseaseDetection/templates/disease_predict.html  \n",
            "   creating: DiseaseDetection/DiseaseDetection/templates/includes/\n",
            "  inflating: DiseaseDetection/DiseaseDetection/templates/includes/default.html  \n",
            "  inflating: DiseaseDetection/DiseaseDetection/templates/Testing.csv  \n",
            "  inflating: DiseaseDetection/DiseaseDetection/templates/Training.csv  \n",
            "  inflating: DiseaseDetection/DiseaseDetection/Testing.csv  \n",
            "   creating: DiseaseDetection/DiseaseDetection/__pycache__/\n",
            "  inflating: DiseaseDetection/DiseaseDetection/__pycache__/dis.cpython-38.pyc  \n",
            "  inflating: DiseaseDetection/DiseaseDetection/__pycache__/diseaseprediction.cpython-36.pyc  \n",
            "  inflating: DiseaseDetection/DiseaseDetection/__pycache__/diseaseprediction.cpython-38.pyc  \n"
          ]
        }
      ],
      "source": [
        "!unzip DiseaseDetection.zip"
      ]
    },
    {
      "cell_type": "markdown",
      "source": [
        "#Predict on Symptoms Passed"
      ],
      "metadata": {
        "id": "TB6xL2z6TWZT"
      }
    },
    {
      "cell_type": "code",
      "source": [
        "from sklearn.tree import DecisionTreeClassifier\n",
        "from sklearn.model_selection import train_test_split\n",
        "import csv, numpy as np, pandas as pd\n",
        "import os\n",
        "\n",
        "data = pd.read_csv(\"/content/DiseaseDetection/DiseaseDetection/templates/Training.csv\")\n",
        "df = pd.DataFrame(data)\n",
        "cols = df.columns\n",
        "cols = cols[:-1]\n",
        "x = df[cols]\n",
        "y = df['prognosis']\n",
        "x_train, x_test, y_train, y_test = train_test_split(x, y, test_size=0.33, random_state=42)\n",
        "\n",
        "print(\"DecisionTree\")\n",
        "dt = DecisionTreeClassifier()\n",
        "clf_dt = dt.fit(x_train, y_train)\n",
        "\n",
        "indices = [i for i in range(132)]\n",
        "symptoms = df.columns.values[:-1]\n",
        "\n",
        "dictionary = dict(zip(symptoms, indices))\n",
        "\n",
        "def dosomething(symptom):\n",
        "    user_input_symptoms = symptom\n",
        "    user_input_label = [0 for i in range(132)]\n",
        "    for i in user_input_symptoms:\n",
        "        idx = dictionary[i]\n",
        "        user_input_label[idx] = 1\n",
        "\n",
        "    user_input_label = np.array(user_input_label)\n",
        "    user_input_label = user_input_label.reshape((-1, 1)).transpose()\n",
        "    return dt.predict(user_input_label)\n",
        "\n",
        "print(dosomething(['itching','anxiety']))"
      ],
      "metadata": {
        "colab": {
          "base_uri": "https://localhost:8080/"
        },
        "id": "YzvkRi83TcNC",
        "outputId": "e4e5a0f5-d50b-42c5-a14a-9e343bd9265e"
      },
      "execution_count": 4,
      "outputs": [
        {
          "output_type": "stream",
          "name": "stdout",
          "text": [
            "DecisionTree\n",
            "['Drug Reaction']\n"
          ]
        },
        {
          "output_type": "stream",
          "name": "stderr",
          "text": [
            "/usr/local/lib/python3.10/dist-packages/sklearn/base.py:439: UserWarning: X does not have valid feature names, but DecisionTreeClassifier was fitted with feature names\n",
            "  warnings.warn(\n"
          ]
        }
      ]
    },
    {
      "cell_type": "markdown",
      "source": [
        "# Print Test Accuracy"
      ],
      "metadata": {
        "id": "JbrRAQd2Tw74"
      }
    },
    {
      "cell_type": "code",
      "source": [
        "from sklearn.tree import DecisionTreeClassifier\n",
        "from sklearn.model_selection import train_test_split\n",
        "import csv, numpy as np, pandas as pd\n",
        "import os\n",
        "\n",
        "# Load the data\n",
        "data = pd.read_csv(\"/content/DiseaseDetection/DiseaseDetection/templates/Training.csv\")\n",
        "df = pd.DataFrame(data)\n",
        "\n",
        "# Split the data into training and test sets\n",
        "cols = df.columns\n",
        "cols = cols[:-1]\n",
        "x = df[cols]\n",
        "y = df['prognosis']\n",
        "x_train, x_test, y_train, y_test = train_test_split(x, y, test_size=0.33, random_state=42)\n",
        "\n",
        "# Train the decision tree classifier\n",
        "print(\"Training Decision Tree\")\n",
        "dt = DecisionTreeClassifier()\n",
        "clf_dt = dt.fit(x_train, y_train)\n",
        "\n",
        "# Evaluate the accuracy on the test data\n",
        "accuracy = clf_dt.score(x_test, y_test)\n",
        "print(f\"Accuracy on test data: {accuracy}\")"
      ],
      "metadata": {
        "colab": {
          "base_uri": "https://localhost:8080/"
        },
        "id": "UwwYIf3TT3MP",
        "outputId": "9801cb99-fd95-43d0-c1f4-6a10847995f4"
      },
      "execution_count": 6,
      "outputs": [
        {
          "output_type": "stream",
          "name": "stdout",
          "text": [
            "Training Decision Tree\n",
            "Accuracy on test data: 1.0\n"
          ]
        }
      ]
    }
  ]
}